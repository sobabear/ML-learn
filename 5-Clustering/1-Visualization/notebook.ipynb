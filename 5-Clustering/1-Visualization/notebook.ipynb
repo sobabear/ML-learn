{
 "cells": [
  {
   "cell_type": "markdown",
   "metadata": {},
   "source": [
    "# Nigerian Music scraped from Spotify - an analysis"
   ]
  },
  {
   "cell_type": "code",
   "execution_count": 1,
   "metadata": {},
   "outputs": [],
   "source": [
    "import matplotlib.pyplot as plt\n",
    "import pandas as pd"
   ]
  },
  {
   "cell_type": "code",
   "execution_count": 3,
   "metadata": {},
   "outputs": [
    {
     "data": {
      "text/html": [
       "<div>\n",
       "<style scoped>\n",
       "    .dataframe tbody tr th:only-of-type {\n",
       "        vertical-align: middle;\n",
       "    }\n",
       "\n",
       "    .dataframe tbody tr th {\n",
       "        vertical-align: top;\n",
       "    }\n",
       "\n",
       "    .dataframe thead th {\n",
       "        text-align: right;\n",
       "    }\n",
       "</style>\n",
       "<table border=\"1\" class=\"dataframe\">\n",
       "  <thead>\n",
       "    <tr style=\"text-align: right;\">\n",
       "      <th></th>\n",
       "      <th>name</th>\n",
       "      <th>album</th>\n",
       "      <th>artist</th>\n",
       "      <th>artist_top_genre</th>\n",
       "      <th>release_date</th>\n",
       "      <th>length</th>\n",
       "      <th>popularity</th>\n",
       "      <th>danceability</th>\n",
       "      <th>acousticness</th>\n",
       "      <th>energy</th>\n",
       "      <th>instrumentalness</th>\n",
       "      <th>liveness</th>\n",
       "      <th>loudness</th>\n",
       "      <th>speechiness</th>\n",
       "      <th>tempo</th>\n",
       "      <th>time_signature</th>\n",
       "    </tr>\n",
       "  </thead>\n",
       "  <tbody>\n",
       "    <tr>\n",
       "      <th>0</th>\n",
       "      <td>Sparky</td>\n",
       "      <td>Mandy &amp; The Jungle</td>\n",
       "      <td>Cruel Santino</td>\n",
       "      <td>alternative r&amp;b</td>\n",
       "      <td>2019</td>\n",
       "      <td>144000</td>\n",
       "      <td>48</td>\n",
       "      <td>0.666</td>\n",
       "      <td>0.8510</td>\n",
       "      <td>0.420</td>\n",
       "      <td>0.534000</td>\n",
       "      <td>0.1100</td>\n",
       "      <td>-6.699</td>\n",
       "      <td>0.0829</td>\n",
       "      <td>133.015</td>\n",
       "      <td>5</td>\n",
       "    </tr>\n",
       "    <tr>\n",
       "      <th>1</th>\n",
       "      <td>shuga rush</td>\n",
       "      <td>EVERYTHING YOU HEARD IS TRUE</td>\n",
       "      <td>Odunsi (The Engine)</td>\n",
       "      <td>afropop</td>\n",
       "      <td>2020</td>\n",
       "      <td>89488</td>\n",
       "      <td>30</td>\n",
       "      <td>0.710</td>\n",
       "      <td>0.0822</td>\n",
       "      <td>0.683</td>\n",
       "      <td>0.000169</td>\n",
       "      <td>0.1010</td>\n",
       "      <td>-5.640</td>\n",
       "      <td>0.3600</td>\n",
       "      <td>129.993</td>\n",
       "      <td>3</td>\n",
       "    </tr>\n",
       "    <tr>\n",
       "      <th>2</th>\n",
       "      <td>LITT!</td>\n",
       "      <td>LITT!</td>\n",
       "      <td>AYLØ</td>\n",
       "      <td>indie r&amp;b</td>\n",
       "      <td>2018</td>\n",
       "      <td>207758</td>\n",
       "      <td>40</td>\n",
       "      <td>0.836</td>\n",
       "      <td>0.2720</td>\n",
       "      <td>0.564</td>\n",
       "      <td>0.000537</td>\n",
       "      <td>0.1100</td>\n",
       "      <td>-7.127</td>\n",
       "      <td>0.0424</td>\n",
       "      <td>130.005</td>\n",
       "      <td>4</td>\n",
       "    </tr>\n",
       "    <tr>\n",
       "      <th>3</th>\n",
       "      <td>Confident / Feeling Cool</td>\n",
       "      <td>Enjoy Your Life</td>\n",
       "      <td>Lady Donli</td>\n",
       "      <td>nigerian pop</td>\n",
       "      <td>2019</td>\n",
       "      <td>175135</td>\n",
       "      <td>14</td>\n",
       "      <td>0.894</td>\n",
       "      <td>0.7980</td>\n",
       "      <td>0.611</td>\n",
       "      <td>0.000187</td>\n",
       "      <td>0.0964</td>\n",
       "      <td>-4.961</td>\n",
       "      <td>0.1130</td>\n",
       "      <td>111.087</td>\n",
       "      <td>4</td>\n",
       "    </tr>\n",
       "    <tr>\n",
       "      <th>4</th>\n",
       "      <td>wanted you</td>\n",
       "      <td>rare.</td>\n",
       "      <td>Odunsi (The Engine)</td>\n",
       "      <td>afropop</td>\n",
       "      <td>2018</td>\n",
       "      <td>152049</td>\n",
       "      <td>25</td>\n",
       "      <td>0.702</td>\n",
       "      <td>0.1160</td>\n",
       "      <td>0.833</td>\n",
       "      <td>0.910000</td>\n",
       "      <td>0.3480</td>\n",
       "      <td>-6.044</td>\n",
       "      <td>0.0447</td>\n",
       "      <td>105.115</td>\n",
       "      <td>4</td>\n",
       "    </tr>\n",
       "  </tbody>\n",
       "</table>\n",
       "</div>"
      ],
      "text/plain": [
       "                       name                         album  \\\n",
       "0                    Sparky            Mandy & The Jungle   \n",
       "1                shuga rush  EVERYTHING YOU HEARD IS TRUE   \n",
       "2                     LITT!                         LITT!   \n",
       "3  Confident / Feeling Cool               Enjoy Your Life   \n",
       "4                wanted you                         rare.   \n",
       "\n",
       "                artist artist_top_genre  release_date  length  popularity  \\\n",
       "0        Cruel Santino  alternative r&b          2019  144000          48   \n",
       "1  Odunsi (The Engine)          afropop          2020   89488          30   \n",
       "2                 AYLØ        indie r&b          2018  207758          40   \n",
       "3           Lady Donli     nigerian pop          2019  175135          14   \n",
       "4  Odunsi (The Engine)          afropop          2018  152049          25   \n",
       "\n",
       "   danceability  acousticness  energy  instrumentalness  liveness  loudness  \\\n",
       "0         0.666        0.8510   0.420          0.534000    0.1100    -6.699   \n",
       "1         0.710        0.0822   0.683          0.000169    0.1010    -5.640   \n",
       "2         0.836        0.2720   0.564          0.000537    0.1100    -7.127   \n",
       "3         0.894        0.7980   0.611          0.000187    0.0964    -4.961   \n",
       "4         0.702        0.1160   0.833          0.910000    0.3480    -6.044   \n",
       "\n",
       "   speechiness    tempo  time_signature  \n",
       "0       0.0829  133.015               5  \n",
       "1       0.3600  129.993               3  \n",
       "2       0.0424  130.005               4  \n",
       "3       0.1130  111.087               4  \n",
       "4       0.0447  105.115               4  "
      ]
     },
     "execution_count": 3,
     "metadata": {},
     "output_type": "execute_result"
    }
   ],
   "source": [
    "df = pd.read_csv(\"../data/nigerian-songs.csv\")\n",
    "df.head()"
   ]
  },
  {
   "cell_type": "markdown",
   "metadata": {},
   "source": [
    "Get information from data frame"
   ]
  },
  {
   "cell_type": "code",
   "execution_count": 4,
   "metadata": {},
   "outputs": [
    {
     "name": "stdout",
     "output_type": "stream",
     "text": [
      "<class 'pandas.core.frame.DataFrame'>\n",
      "RangeIndex: 530 entries, 0 to 529\n",
      "Data columns (total 16 columns):\n",
      " #   Column            Non-Null Count  Dtype  \n",
      "---  ------            --------------  -----  \n",
      " 0   name              530 non-null    object \n",
      " 1   album             530 non-null    object \n",
      " 2   artist            530 non-null    object \n",
      " 3   artist_top_genre  530 non-null    object \n",
      " 4   release_date      530 non-null    int64  \n",
      " 5   length            530 non-null    int64  \n",
      " 6   popularity        530 non-null    int64  \n",
      " 7   danceability      530 non-null    float64\n",
      " 8   acousticness      530 non-null    float64\n",
      " 9   energy            530 non-null    float64\n",
      " 10  instrumentalness  530 non-null    float64\n",
      " 11  liveness          530 non-null    float64\n",
      " 12  loudness          530 non-null    float64\n",
      " 13  speechiness       530 non-null    float64\n",
      " 14  tempo             530 non-null    float64\n",
      " 15  time_signature    530 non-null    int64  \n",
      "dtypes: float64(8), int64(4), object(4)\n",
      "memory usage: 66.4+ KB\n"
     ]
    }
   ],
   "source": [
    "df.info()"
   ]
  },
  {
   "cell_type": "markdown",
   "metadata": {},
   "source": [
    "Double-check for null values."
   ]
  },
  {
   "cell_type": "code",
   "execution_count": 5,
   "metadata": {},
   "outputs": [
    {
     "data": {
      "text/plain": [
       "name                0\n",
       "album               0\n",
       "artist              0\n",
       "artist_top_genre    0\n",
       "release_date        0\n",
       "length              0\n",
       "popularity          0\n",
       "danceability        0\n",
       "acousticness        0\n",
       "energy              0\n",
       "instrumentalness    0\n",
       "liveness            0\n",
       "loudness            0\n",
       "speechiness         0\n",
       "tempo               0\n",
       "time_signature      0\n",
       "dtype: int64"
      ]
     },
     "execution_count": 5,
     "metadata": {},
     "output_type": "execute_result"
    }
   ],
   "source": [
    "df.isnull().sum()"
   ]
  }
 ],
 "metadata": {
  "kernelspec": {
   "display_name": "Python 3",
   "language": "python",
   "name": "python3"
  },
  "language_info": {
   "codemirror_mode": {
    "name": "ipython",
    "version": 3
   },
   "file_extension": ".py",
   "mimetype": "text/x-python",
   "name": "python",
   "nbconvert_exporter": "python",
   "pygments_lexer": "ipython3",
   "version": "3.10.11"
  }
 },
 "nbformat": 4,
 "nbformat_minor": 2
}
